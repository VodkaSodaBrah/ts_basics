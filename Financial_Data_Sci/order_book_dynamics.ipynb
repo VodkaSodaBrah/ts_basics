{
  "cells": [
    {
      "cell_type": "markdown",
      "id": "4f0bf91f",
      "metadata": {},
      "source": [
        "# Order Book Dynamics\n",
        "\n",
        "In this notebook, we explore how electronic markets actually match buyers and sellers. We'll use plain English and avoid heavy math."
      ]
    },
    {
      "cell_type": "markdown",
      "id": "c1a77661",
      "metadata": {},
      "source": [
        "## 1. Order Types\n",
        "\n",
        "- **Limit Orders**\n",
        "  - You say how much you want to trade *and* the exact price you’re willing to pay or accept.\n",
        "  - Your order patiently waits in the electronic \"book\" until someone matches your price.\n",
        "  - You can cancel it at any time if it doesn't fill.\n",
        "\n",
        "- **Market Orders**\n",
        "  - You tell the system, “Fill my trade right now at the best available price.”\n",
        "  - This guarantees speed, not price—you might sweep through multiple price levels to get your size filled.\n",
        "  - Market orders take liquidity; limit orders make liquidity."
      ]
    },
    {
      "cell_type": "markdown",
      "id": "5b5d037b",
      "metadata": {},
      "source": [
        "## 2. The Bid–Ask Spread\n",
        "\n",
        "- At any moment, the top **buy** price in the book is the **Bid**.\n",
        "- The top **sell** price is the **Ask**.\n",
        "- The **spread** is simply: Ask minus Bid.\n",
        "\n",
        "- **Tight spreads** (small difference) mean low cost to trade immediately.\n",
        "- **Wide spreads** mean higher implicit costs: if you buy at the ask and flip to sell at the bid, you lose that difference."
      ]
    },
    {
      "cell_type": "markdown",
      "id": "17de077d",
      "metadata": {},
      "source": [
        "## 3. Picking a Simple \"Price\"\n",
        "\n",
        "- **Midprice**\n",
        "  - (Bid + Ask) / 2 provides a quick snapshot of where the market sits.\n",
        "\n",
        "- **Microprice**\n",
        "  - We weight the bid and ask by how many shares are sitting at each level.\n",
        "  - If there’s a big pile of bids but only a few asks, the microprice shifts toward the ask, hinting at hidden buying pressure."
      ]
    },
    {
      "cell_type": "markdown",
      "id": "1553a140",
      "metadata": {},
      "source": [
        "## 4. Why It Matters\n",
        "\n",
        "- **Execution cost**: Market orders pay the spread; limit orders earn it.\n",
        "- **Liquidity**: The depth of the book tells you how big an order you can place without moving the price too much.\n",
        "- **Market signals**: Changes in the spread and book shape often signal upcoming volatility or large trades."
      ]
    },
    {
      "cell_type": "code",
      "execution_count": null,
      "id": "load_real_data",
      "metadata": {},
      "outputs": [],
      "source": [
        "# Load and prepare BNB/USDT 1-minute data (last 30 days)\n",
        "import pandas as pd\n",
        "\n",
        "path = '/Users/mchildress/Active Code/ts_basics/data/bnbusdt_1m.csv'\n",
        "df = (\n",
        "    pd.read_csv(path, parse_dates=['timestamp'])\n",
        "      .set_index('timestamp')\n",
        "      .sort_index()\n",
        "      .iloc[-30*24*60:]   # keep only last 30 days\n",
        ")\n",
        "\n",
        "df.head()"
      ]
    },
    {
      "cell_type": "code",
      "execution_count": null,
      "id": "plot_spread_midprice",
      "metadata": {},
      "outputs": [],
      "source": [
        "# Compute midprice and spread\n",
        "df['midprice'] = (df['high'] + df['low']) / 2\n",
        "df['spread']   = df['high'] - df['low']\n",
        "\n",
        "import matplotlib.pyplot as plt\n",
        "\n",
        "plt.figure(figsize=(12,4))\n",
        "ax = plt.gca()\n",
        "ax.plot(df.index, df['midprice'], label='Mid-price', color='C0')\n",
        "ax.set_ylabel('Mid-price')\n",
        "\n",
        "ax2 = ax.twinx()\n",
        "ax2.plot(df.index, df['spread'], label='Spread', color='C1', alpha=0.6)\n",
        "ax2.set_ylabel('Spread')\n",
        "\n",
        "ax.set_title('BNB/USDT Mid-Price & Spread (1m, last 30 days)')\n",
        "ax.legend(loc='upper left')\n",
        "ax2.legend(loc='upper right')\n",
        "plt.tight_layout()\n",
        "plt.show()"
      ]
    },
    {
      "cell_type": "markdown",
      "id": "plain_english_interpretation",
      "metadata": {},
      "source": [
        "## 5. Analysis\n",
        "\n",
        "- **Mid-Price Trend**: Over the last 30 days, the mid-price for BNB/USDT has moved between about 620 and 780. We see clear periods of rising price (early spikes) followed by consolidations where the price bounces in a range.\n",
        "- **Spread Behavior**: Most of the time, the spread stays low (under 5), indicating the market is liquid and you can trade quickly with very little cost. \n",
        "- **Spread Spikes**: Large spikes in the spread (sometimes above 20 or even 30) hint at moments of lower liquidity or volatility—perhaps around big news events or when order-book updates slowed down. During those spikes, placing a market order would be noticeably more expensive.\n",
        "- **Takeaways**:\n",
        "  - If you trade during low-spread periods, you pay only a tiny fee in the bid–ask difference.\n",
        "  - If the spread jumps up, it’s a sign to pause or switch to limit orders, since market orders can cost a lot more."
      ]
    }
  ],
  "metadata": {
    "kernelspec": {
      "display_name": "Python 3",
      "language": "python",
      "name": "python3"
    },
    "language_info": {
      "name": "python"
    }
  },
  "nbformat": 4,
  "nbformat_minor": 5
}
