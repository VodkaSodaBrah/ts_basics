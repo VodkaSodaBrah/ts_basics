{
 "cells": [
  {
   "cell_type": "code",
   "execution_count": 1,
   "id": "load-data",
   "metadata": {},
   "outputs": [],
   "source": [
    "import pandas as pd\n",
    "# Load Binance BNB/USDT 1-minute data\n",
    "df = pd.read_csv('/Users/mchildress/Active Code/ts_basics/data/bnbusdt_1m.csv',\n",
    "                 parse_dates=True, index_col=0)\n",
    "# Use df for downstream processing\n",
    "data = df  # rename as needed by notebook"
   ]
  },
  {
   "cell_type": "code",
   "execution_count": null,
   "id": "preprocess-window-prformer",
   "metadata": {},
   "outputs": [
    {
     "name": "stderr",
     "output_type": "stream",
     "text": [
      "/var/folders/yj/3s0hc5nn3qlg4lqp7wmfgq_c0000gn/T/ipykernel_94613/2140110104.py:21: UserWarning: Creating a tensor from a list of numpy.ndarrays is extremely slow. Please consider converting the list to a single numpy.ndarray with numpy.array() before converting to a tensor. (Triggered internally at /Users/runner/work/pytorch/pytorch/pytorch/torch/csrc/utils/tensor_new.cpp:257.)\n",
      "  self.X = torch.tensor(X, dtype=torch.float32).unsqueeze(-1)\n"
     ]
    }
   ],
   "source": [
    "# 2. Preprocess & split\n",
    "from sklearn.preprocessing import StandardScaler\n",
    "# use 'close' price\n",
    "scaler = StandardScaler()\n",
    "series = scaler.fit_transform(df[['close']].values)\n",
    "# parameters\n",
    "lookback, horizon = 720, 96\n",
    "split = int(len(series) * 0.8)\n",
    "train_series, val_series = series[:split], series[split:]\n",
    "\n",
    "# 3. Dataset & DataLoader\n",
    "import torch\n",
    "from torch.utils.data import Dataset, DataLoader\n",
    "\n",
    "class TSData(Dataset):\n",
    "    def __init__(self, arr, lookback, horizon):\n",
    "        X, Y = [], []\n",
    "        for i in range(len(arr) - lookback - horizon + 1):\n",
    "            X.append(arr[i:i+lookback])\n",
    "            Y.append(arr[i+lookback:i+lookback+horizon])\n",
    "        self.X = torch.tensor(X, dtype=torch.float32).unsqueeze(-1)\n",
    "        self.Y = torch.tensor(Y, dtype=torch.float32).unsqueeze(-1)\n",
    "    def __len__(self):\n",
    "        return len(self.X)\n",
    "    def __getitem__(self, idx):\n",
    "        return self.X[idx], self.Y[idx]\n",
    "\n",
    "train_ds = TSData(train_series, lookback, horizon)\n",
    "val_ds   = TSData(val_series,   lookback, horizon)\n",
    "train_loader = DataLoader(train_ds, batch_size=32, shuffle=True)\n",
    "val_loader   = DataLoader(val_ds,   batch_size=32, shuffle=False)"
   ]
  },
  {
   "cell_type": "code",
   "execution_count": null,
   "id": "import-prformer",
   "metadata": {},
   "outputs": [],
   "source": [
    "# 4. Import PRformer\n",
    "import sys, pathlib\n",
    "repo_root = pathlib.Path(\"/Users/mchildress/Active Code/ts_basics/Modeling/Transformer\")\n",
    "if str(repo_root) not in sys.path:\n",
    "    sys.path.append(str(repo_root))\n",
    "\n",
    "from prformer import PRformer\n",
    "import torch.nn as nn\n",
    "\n",
    "device = torch.device(\"mps\") if torch.backends.mps.is_available() else torch.device(\"cpu\")\n",
    "# 5. Instantiate PRformer, optimizer & loss\n",
    "model = PRformer(\n",
    "    input_len=lookback,\n",
    "    output_len=horizon,\n",
    "    d_model=64,\n",
    "    n_heads=4,\n",
    "    num_layers=3,\n",
    "    dropout=0.1\n",
    ").to(device)\n",
    "\n",
    "optimizer = torch.optim.Adam(model.parameters(), lr=1e-4)\n",
    "criterion = nn.MSELoss()"
   ]
  },
  {
   "cell_type": "code",
   "execution_count": null,
   "id": "training-loop",
   "metadata": {},
   "outputs": [],
   "source": [
    "# 6. Training loop\n",
    "epochs = 10\n",
    "for ep in range(epochs):\n",
    "    model.train()\n",
    "    total_loss = 0.0\n",
    "    for X, Y in train_loader:\n",
    "        X, Y = X.to(device), Y.to(device)\n",
    "        optimizer.zero_grad()\n",
    "        preds = model(X)  # PRformer takes (B, L, 1) and returns (B, Horizon, 1)\n",
    "        loss = criterion(preds, Y)\n",
    "        loss.backward()\n",
    "        optimizer.step()\n",
    "        total_loss += loss.item()\n",
    "    print(f\"Epoch {ep+1}/{epochs} — train MSE: {total_loss/len(train_loader):.5f}\")"
   ]
  }
 ],
 "metadata": {
  "kernelspec": {
   "display_name": "dream",
   "language": "python",
   "name": "python3"
  },
  "language_info": {
   "codemirror_mode": {
    "name": "ipython",
    "version": 3
   },
   "file_extension": ".py",
   "mimetype": "text/x-python",
   "name": "python",
   "nbconvert_exporter": "python",
   "pygments_lexer": "ipython3",
   "version": "3.11.12"
  }
 },
 "nbformat": 4,
 "nbformat_minor": 5
}
