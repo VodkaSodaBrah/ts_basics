{
 "cells": [
  {
   "cell_type": "markdown",
   "metadata": {},
   "source": [
    "# 📘 Transformer‑Based Time‑Series Forecasting\n",
    "\n",
    "In this notebook we’ll:\n",
    "1. Pull in the **building blocks** from the PyTorch Transformer tutorial  \n",
    "2. Adapt them for **univariate time‑series** (predict next value)  \n",
    "3. Train & evaluate on your own series\n",
    "\n",
    "---\n"
   ]
  },
  {
   "cell_type": "markdown",
   "metadata": {},
   "source": [
    "## 1️⃣ Setup and Imports\n"
   ]
  },
  {
   "cell_type": "code",
   "execution_count": 1,
   "metadata": {},
   "outputs": [],
   "source": [
    "# Cell 1: Imports\n",
    "import math\n",
    "import torch\n",
    "import torch.nn as nn\n",
    "import torch.optim as optim\n",
    "from torch.utils.data import Dataset, DataLoader\n"
   ]
  },
  {
   "cell_type": "markdown",
   "metadata": {},
   "source": [
    "## 2️⃣ Positional Encoding\n",
    "> As in the tutorial, we need to inject information about the time‑step into each embedding.\n"
   ]
  },
  {
   "cell_type": "code",
   "execution_count": 2,
   "metadata": {},
   "outputs": [],
   "source": [
    "# Cell 2: PositionalEncoding\n",
    "class PositionalEncoding(nn.Module):\n",
    "    def __init__(self, d_model, max_len=5000):\n",
    "        super().__init__()\n",
    "        pe = torch.zeros(max_len, d_model)\n",
    "        position = torch.arange(0, max_len).unsqueeze(1).float()\n",
    "        div_term = torch.exp(torch.arange(0, d_model, 2).float() *\n",
    "                             -(math.log(10000.0) / d_model))\n",
    "        pe[:, 0::2] = torch.sin(position * div_term)\n",
    "        pe[:, 1::2] = torch.cos(position * div_term)\n",
    "        pe = pe.unsqueeze(0)\n",
    "        self.register_buffer('pe', pe)\n",
    "\n",
    "    def forward(self, x):\n",
    "        return x + self.pe[:, :x.size(1)]\n"
   ]
  },
  {
   "cell_type": "markdown",
   "metadata": {},
   "source": [
    "## 3️⃣ Transformer Model Definition\n",
    "> We wrap the `nn.Transformer` exactly as in the tutorial, but project scalars ↔ vectors at input/output.\n"
   ]
  },
  {
   "cell_type": "code",
   "execution_count": 3,
   "metadata": {},
   "outputs": [],
   "source": [
    "# Cell 3: TimeSeriesTransformer\n",
    "class TimeSeriesTransformer(nn.Module):\n",
    "    def __init__(self, input_size=1, d_model=64, nhead=8,\n",
    "                 num_encoder_layers=3, num_decoder_layers=3,\n",
    "                 dim_feedforward=128, dropout=0.1):\n",
    "        super().__init__()\n",
    "        self.d_model = d_model\n",
    "        self.input_proj = nn.Linear(input_size, d_model)\n",
    "        self.pos_encoder = PositionalEncoding(d_model)\n",
    "        self.pos_decoder = PositionalEncoding(d_model)\n",
    "        self.transformer = nn.Transformer(d_model=d_model,\n",
    "                                          nhead=nhead,\n",
    "                                          num_encoder_layers=num_encoder_layers,\n",
    "                                          num_decoder_layers=num_decoder_layers,\n",
    "                                          dim_feedforward=dim_feedforward,\n",
    "                                          dropout=dropout)\n",
    "        self.output_proj = nn.Linear(d_model, 1)\n",
    "\n",
    "    def forward(self, src, tgt):\n",
    "        src = self.input_proj(src) * math.sqrt(self.d_model)\n",
    "        src = self.pos_encoder(src.transpose(0,1)).transpose(0,1)\n",
    "        tgt = self.input_proj(tgt) * math.sqrt(self.d_model)\n",
    "        tgt = self.pos_decoder(tgt.transpose(0,1)).transpose(0,1)\n",
    "\n",
    "        T = tgt.size(0)\n",
    "        mask = self.transformer.generate_square_subsequent_mask(T).to(tgt.device)\n",
    "\n",
    "        out = self.transformer(src, tgt, tgt_mask=mask)\n",
    "        return self.output_proj(out)\n"
   ]
  },
  {
   "cell_type": "markdown",
   "metadata": {},
   "source": [
    "## 4️⃣ Data Preparation\n",
    "> Mirror the tutorial’s approach to dataset/dataloader, but yield sliding windows.\n"
   ]
  },
  {
   "cell_type": "code",
   "execution_count": 4,
   "metadata": {},
   "outputs": [],
   "source": [
    "# Cell 4: Dataset + DataLoader\n",
    "import pandas as pd\n",
    "# Load your time-series data from CSV\n",
    "df = pd.read_csv(\"/Users/mchildress/Active Code/ts_basics/data/bnbusdt_1m.csv\")\n",
    "# Assuming the CSV has a 'close' column; adjust if necessary\n",
    "series_values = df[\"close\"].values\n",
    "\n",
    "class TimeSeriesDataset(Dataset):\n",
    "    def __init__(self, series, seq_len, stride=1):\n",
    "        self.series = series\n",
    "        self.seq_len = seq_len\n",
    "        self.stride = stride\n",
    "\n",
    "    def __len__(self):\n",
    "        return max((len(self.series) - 2 * self.seq_len) // self.stride, 0)\n",
    "\n",
    "    def __getitem__(self, idx):\n",
    "        start = idx * self.stride\n",
    "        src = self.series[start : start + self.seq_len]\n",
    "        tgt_output = self.series[start + self.seq_len : start + 2*self.seq_len]\n",
    "        tgt_input = torch.zeros_like(tgt_output)\n",
    "        tgt_input[1:] = tgt_output[:-1]\n",
    "        return (src.unsqueeze(-1),\n",
    "                tgt_input.unsqueeze(-1),\n",
    "                tgt_output.unsqueeze(-1))\n",
    "\n",
    "seq_len = 30\n",
    "series = torch.tensor(series_values, dtype=torch.float)\n",
    "dataset = TimeSeriesDataset(series, seq_len, stride=10)\n",
    "loader = DataLoader(\n",
    "    dataset,\n",
    "    batch_size=1024,\n",
    "    shuffle=True,\n",
    "    num_workers=0,       # avoid multiprocessing pickling issues\n",
    "    pin_memory=False     # disable pin_memory on platforms without support\n",
    ")\n"
   ]
  },
  {
   "cell_type": "code",
   "execution_count": 5,
   "metadata": {},
   "outputs": [],
   "source": [
    "# Cell 4.1: Data Normalization\n",
    "from sklearn.preprocessing import StandardScaler\n",
    "# Scale the series to zero mean, unit variance\n",
    "scaler = StandardScaler()\n",
    "# reshape to (n_samples,1) for scaler\n",
    "reshaped_series = series_values.reshape(-1, 1)\n",
    "scaled_series = scaler.fit_transform(reshaped_series).flatten()\n",
    "series_values = scaled_series\n"
   ]
  },
  {
   "cell_type": "markdown",
   "metadata": {},
   "source": [
    "## 5️⃣ Training Loop\n",
    "> Same pattern as tutorial’s training example, swapping in MSE loss.\n"
   ]
  },
  {
   "cell_type": "code",
   "execution_count": null,
   "metadata": {},
   "outputs": [
    {
     "name": "stderr",
     "output_type": "stream",
     "text": [
      "Epoch 1:  22%|██▏       | 80/359 [00:11<00:44,  6.27it/s]"
     ]
    }
   ],
   "source": [
    "import warnings\n",
    "warnings.filterwarnings(\"ignore\", message=\"IProgress not found\")\n",
    "warnings.filterwarnings(\"ignore\", message=\".*enable_nested_tensor.*\")\n",
    "from tqdm import tqdm\n",
    "\n",
    "# Cell 5: Train\n",
    "    # Recreate loader to ensure no multiprocessing workers\n",
    "from torch.utils.data import DataLoader\n",
    "loader = DataLoader(dataset, batch_size=1024, shuffle=True, num_workers=0, pin_memory=False)\n",
    "# from tqdm.auto import tqdm\n",
    "# Use Apple MPS if available, otherwise fallback to CPU\n",
    "device = torch.device(\"mps\") if torch.backends.mps.is_available() else torch.device(\"cpu\")\n",
    "model     = TimeSeriesTransformer().to(device)\n",
    "# model = torch.compile(model)  # Disabled for MPS/CPU\n",
    "# from torch.cuda.amp import autocast, GradScaler  # Disabled for MPS/CPU\n",
    "# scaler = GradScaler()  # Disabled for MPS/CPU\n",
    "optimizer = optim.Adam(model.parameters(), lr=1e-4)\n",
    "criterion = nn.MSELoss()\n",
    "\n",
    "for epoch in range(1, 6):\n",
    "    model.train()\n",
    "    total_loss = 0\n",
    "    for src, tgt_in, tgt_out in tqdm(loader, desc=f\"Epoch {epoch}\", leave=False):\n",
    "        src, tgt_in, tgt_out = [t.transpose(0,1).to(device) \n",
    "                                for t in (src, tgt_in, tgt_out)]\n",
    "        optimizer.zero_grad()\n",
    "        pred = model(src, tgt_in)\n",
    "        loss = criterion(pred, tgt_out)\n",
    "        loss.backward()\n",
    "        optimizer.step()\n",
    "        total_loss += loss.item()\n",
    "    print(f\"Epoch {epoch:02d} — Loss: {total_loss/len(loader):.6f}\")\n"
   ]
  },
  {
   "cell_type": "markdown",
   "metadata": {},
   "source": [
    "## 6️⃣ Inference\n",
    "> Finally, do a “single‐step” forecast exactly like the tutorial’s greedy decode.\n"
   ]
  },
  {
   "cell_type": "code",
   "execution_count": 8,
   "metadata": {},
   "outputs": [
    {
     "name": "stdout",
     "output_type": "stream",
     "text": [
      "Next value: 23.862472534179688\n"
     ]
    }
   ],
   "source": [
    "# Cell 6: Inference\n",
    "# Prepare the last sequence window for inference\n",
    "latest_seq = series_values[-seq_len:]\n",
    "model.eval()\n",
    "with torch.no_grad():\n",
    "    window = torch.tensor(latest_seq, dtype=torch.float)\n",
    "    src    = window.unsqueeze(1).unsqueeze(-1).to(device)\n",
    "    tgt_in = torch.zeros(seq_len, 1, 1, device=device)\n",
    "    out    = model(src, tgt_in)\n",
    "    forecast = out.squeeze(-1).squeeze(-1)\n",
    "    print(\"Next value:\", forecast[-1].item())\n"
   ]
  },
  {
   "cell_type": "code",
   "execution_count": 9,
   "metadata": {},
   "outputs": [
    {
     "name": "stdout",
     "output_type": "stream",
     "text": [
      "Predicted next value (original scale): 5278.556005573783\n"
     ]
    }
   ],
   "source": [
    "# Cell 6.1: Inverse Transform Prediction\n",
    "# Convert normalized forecast back to original scale\n",
    "predicted_norm = forecast[-1].item()\n",
    "predicted_actual = scaler.inverse_transform([[predicted_norm]])[0,0]\n",
    "print(f\"Predicted next value (original scale): {predicted_actual}\")\n"
   ]
  },
  {
   "cell_type": "code",
   "execution_count": 11,
   "metadata": {},
   "outputs": [
    {
     "name": "stdout",
     "output_type": "stream",
     "text": [
      "Test RMSE: 4659.60\n"
     ]
    },
    {
     "data": {
      "image/png": "[encoded data removed]",
      "text/plain": [
       "<Figure size 1000x400 with 1 Axes>"
      ]
     },
     "metadata": {},
     "output_type": "display_data"
    }
   ],
   "source": [
    "# Cell 7: Evaluate on Last N Windows and Plot\n",
    "import matplotlib.pyplot as plt\n",
    "from sklearn.metrics import mean_squared_error\n",
    "\n",
    "# Number of windows to test on\n",
    "test_windows = 100\n",
    "preds_norm = []\n",
    "trues = []\n",
    "\n",
    "model.eval()\n",
    "with torch.no_grad():\n",
    "    for i in range(test_windows):\n",
    "        start = len(series_values) - seq_len - test_windows + i\n",
    "        window = torch.tensor(\n",
    "            series_values[start : start + seq_len], \n",
    "            dtype=torch.float\n",
    "        ).unsqueeze(1).unsqueeze(-1).to(device)\n",
    "        tgt_in = torch.zeros(seq_len, 1, 1, device=device)\n",
    "        out = model(window, tgt_in).squeeze(-1).squeeze(-1)\n",
    "        preds_norm.append(out[-1].item())\n",
    "        trues.append(series_values[start + seq_len])\n",
    "\n",
    "# Inverse transform from normalized to original scale\n",
    "preds = scaler.inverse_transform([[p] for p in preds_norm])\n",
    "trues_orig = scaler.inverse_transform([[t] for t in trues])\n",
    "\n",
    "# Compute RMSE\n",
    "mse = mean_squared_error(\n",
    "    [t[0] for t in trues_orig], \n",
    "    [p[0] for p in preds]\n",
    ")\n",
    "rmse = math.sqrt(mse)\n",
    "print(f\"Test RMSE: {rmse:.2f}\")\n",
    "\n",
    "# Plot the last 100 true vs. predicted values\n",
    "plt.figure(figsize=(10,4))\n",
    "plt.plot(range(test_windows), [t[0] for t in trues_orig], label=\"True\")\n",
    "plt.plot(range(test_windows), [p[0] for p in preds], label=\"Predicted\")\n",
    "plt.legend()\n",
    "plt.title(\"Last 100 Predictions vs True\")\n",
    "plt.show()"
   ]
  },
  {
   "cell_type": "markdown",
   "metadata": {},
   "source": [
    "### Summary\n",
    "\n",
    "- All transformer building blocks have been adapted for univariate time-series forecasting.\n",
    "- Data is loaded from CSV, normalized, and batched with optional striding.\n",
    "- Training loop supports Apple MPS, large batches, and warning suppression.\n",
    "- Single‐step inference, inverse transformation, and evaluation (RMSE) are implemented.\n",
    "- Visualization of predictions vs. ground truth and learning‐rate scheduling examples are included.\n",
    "\n"
   ]
  }
 ],
 "metadata": {
  "kernelspec": {
   "display_name": "dream",
   "language": "python",
   "name": "python3"
  },
  "language_info": {
   "codemirror_mode": {
    "name": "ipython",
    "version": 3
   },
   "file_extension": ".py",
   "mimetype": "text/x-python",
   "name": "python",
   "nbconvert_exporter": "python",
   "pygments_lexer": "ipython3",
   "version": "3.11.12"
  }
 },
 "nbformat": 4,
 "nbformat_minor": 2
}
