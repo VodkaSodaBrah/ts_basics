{
 "cells": [
  {
   "cell_type": "markdown",
   "id": "40380c6c",
   "metadata": {},
   "source": [
    "# GARCH Modeling"
   ]
  },
  {
   "cell_type": "markdown",
   "id": "47f0f846",
   "metadata": {},
   "source": [
    "This notebook explores modeling volatility in financial time series using GARCH models. Volatility is the degree of variation of a trading price series over time, and it often exhibits clustering behavior known as conditional heteroskedasticity, where periods of high volatility tend to cluster together. The ARCH model introduced this concept by modeling variance as a function of past squared errors, and the GARCH model extends this by including past variances as well, providing a more flexible and widely used framework for volatility modeling."
   ]
  },
  {
   "cell_type": "markdown",
   "id": "635cb283",
   "metadata": {},
   "source": [
    "## 1 Imports & Helpers"
   ]
  },
  {
   "cell_type": "code",
   "execution_count": 1,
   "id": "7dc02a05",
   "metadata": {},
   "outputs": [],
   "source": [
    "import pandas as pd\n",
    "import numpy as np\n",
    "import matplotlib.pyplot as plt\n",
    "import seaborn as sns\n",
    "from statsmodels.graphics.tsaplots import plot_acf\n",
    "from arch import arch_model"
   ]
  },
  {
   "cell_type": "markdown",
   "id": "f1a40b20",
   "metadata": {},
   "source": [
    "## 2 Load Data\n",
    "\n",
    "We load a time series dataset, such as returns or price data, from a CSV file. We will compute log returns if the data is a price series."
   ]
  },
  {
   "cell_type": "code",
   "execution_count": 4,
   "id": "52bd8806",
   "metadata": {},
   "outputs": [],
   "source": [
    "# Load minute-level OHLC data and index by the timestamp\n",
    "df = pd.read_csv(\n",
    "    '/Users/mchildress/Active Code/ts_basics/data/bnbusdt_1m.csv',\n",
    "    parse_dates=['open_time'],\n",
    "    index_col='open_time'\n",
    ")\n",
    "\n",
    "# Pull out the 'close' column and make sure it's float\n",
    "prices = df['close'].astype(float)\n",
    "\n",
    "# Compute log returns on the price series\n",
    "returns = np.log(prices).diff().dropna()"
   ]
  },
  {
   "cell_type": "markdown",
   "id": "255285a1",
   "metadata": {},
   "source": [
    "## 3 Fit ARIMA & check residuals\n",
    "\n",
    "We fit a simple ARIMA model to capture the mean dynamics, then examine residuals to ensure no autocorrelation remains."
   ]
  },
  {
   "cell_type": "code",
   "execution_count": null,
   "id": "7920e2b8",
   "metadata": {},
   "outputs": [
    {
     "name": "stderr",
     "output_type": "stream",
     "text": [
      "/Users/mchildress/.pyenv/versions/3.11.12/envs/dream/lib/python3.11/site-packages/statsmodels/tsa/base/tsa_model.py:473: ValueWarning: A date index has been provided, but it has no associated frequency information and so will be ignored when e.g. forecasting.\n",
      "  self._init_dates(dates, freq)\n",
      "/Users/mchildress/.pyenv/versions/3.11.12/envs/dream/lib/python3.11/site-packages/statsmodels/tsa/base/tsa_model.py:473: ValueWarning: A date index has been provided, but it has no associated frequency information and so will be ignored when e.g. forecasting.\n",
      "  self._init_dates(dates, freq)\n",
      "/Users/mchildress/.pyenv/versions/3.11.12/envs/dream/lib/python3.11/site-packages/statsmodels/tsa/base/tsa_model.py:473: ValueWarning: A date index has been provided, but it has no associated frequency information and so will be ignored when e.g. forecasting.\n",
      "  self._init_dates(dates, freq)\n"
     ]
    }
   ],
   "source": [
    "from statsmodels.tsa.arima.model import ARIMA\n",
    "\n",
    "model = ARIMA(returns, order=(1,0,1))\n",
    "res = model.fit()\n",
    "\n",
    "plt.figure(figsize=(12,5))\n",
    "plt.subplot(121)\n",
    "plt.plot(res.resid)\n",
    "plt.title('ARIMA Residuals')\n",
    "plt.subplot(122)\n",
    "plot_acf(res.resid, ax=plt.gca(), lags=40)\n",
    "plt.title('ACF of Residuals')\n",
    "plt.tight_layout()\n",
    "plt.show()"
   ]
  },
  {
   "cell_type": "markdown",
   "id": "5531a32b",
   "metadata": {},
   "source": [
    "## 4 Test for ARCH effects\n",
    "\n",
    "We plot the autocorrelation of squared residuals to check for volatility clustering, a sign of ARCH effects."
   ]
  },
  {
   "cell_type": "code",
   "execution_count": null,
   "id": "a29c1ac5",
   "metadata": {},
   "outputs": [],
   "source": [
    "plt.figure(figsize=(6,4))\n",
    "plot_acf(res.resid**2, lags=40)\n",
    "plt.title('ACF of Squared Residuals')\n",
    "plt.show()"
   ]
  },
  {
   "cell_type": "markdown",
   "id": "6ba14a2f",
   "metadata": {},
   "source": [
    "## 5 Fit GARCH(1,1)\n",
    "\n",
    "We fit a GARCH(1,1) model to capture volatility clustering and time-varying variance."
   ]
  },
  {
   "cell_type": "code",
   "execution_count": null,
   "id": "6b51c0d3",
   "metadata": {},
   "outputs": [],
   "source": [
    "garch = arch_model(res.resid, vol='Garch', p=1, q=1)\n",
    "res_garch = garch.fit(disp='off')\n",
    "print(res_garch.summary())"
   ]
  },
  {
   "cell_type": "markdown",
   "id": "dc0f1e67",
   "metadata": {},
   "source": [
    "## 6 Diagnose GARCH residuals\n",
    "\n",
    "We check standardized residuals and their autocorrelations to assess model fit."
   ]
  },
  {
   "cell_type": "code",
   "execution_count": null,
   "id": "1be0c6b6",
   "metadata": {},
   "outputs": [],
   "source": [
    "std_resid = res_garch.std_resid\n",
    "\n",
    "plt.figure(figsize=(12,5))\n",
    "plt.subplot(121)\n",
    "plt.plot(std_resid)\n",
    "plt.title('Standardized Residuals')\n",
    "plt.subplot(222)\n",
    "plot_acf(std_resid, lags=40, ax=plt.gca())\n",
    "plt.title('ACF of Standardized Residuals')\n",
    "plt.subplot(224)\n",
    "plot_acf(std_resid**2, lags=40, ax=plt.gca())\n",
    "plt.title('ACF of Squared Standardized Residuals')\n",
    "plt.tight_layout()\n",
    "plt.show()"
   ]
  },
  {
   "cell_type": "markdown",
   "id": "805aef8a",
   "metadata": {},
   "source": [
    "## 7 Plot estimated volatility\n",
    "\n",
    "We plot the estimated conditional volatility from the GARCH model."
   ]
  },
  {
   "cell_type": "code",
   "execution_count": null,
   "id": "5c780c4c",
   "metadata": {},
   "outputs": [],
   "source": [
    "plt.figure(figsize=(10,4))\n",
    "plt.plot(res_garch.conditional_volatility)\n",
    "plt.title('Estimated Conditional Volatility')\n",
    "plt.show()"
   ]
  }
 ],
 "metadata": {
  "kernelspec": {
   "display_name": "dream",
   "language": "python",
   "name": "python3"
  },
  "language_info": {
   "codemirror_mode": {
    "name": "ipython",
    "version": 3
   },
   "file_extension": ".py",
   "mimetype": "text/x-python",
   "name": "python",
   "nbconvert_exporter": "python",
   "pygments_lexer": "ipython3",
   "version": "3.11.12"
  }
 },
 "nbformat": 4,
 "nbformat_minor": 5
}
